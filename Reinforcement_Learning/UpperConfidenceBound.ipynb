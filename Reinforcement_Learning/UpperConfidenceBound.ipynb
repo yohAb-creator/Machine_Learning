{
 "cells": [
  {
   "cell_type": "code",
   "execution_count": 9,
   "id": "10d77d77-0208-4447-aa37-ae4cbf55cd25",
   "metadata": {},
   "outputs": [],
   "source": [
    "# Importing libraries\n",
    "import pandas as pd\n",
    "import matplotlib.pyplot as plt\n",
    "import numpy as np"
   ]
  },
  {
   "cell_type": "code",
   "execution_count": 11,
   "id": "1360d9cf-e349-438d-ba6e-7af26f9c36f1",
   "metadata": {},
   "outputs": [
    {
     "name": "stdout",
     "output_type": "stream",
     "text": [
      "      Ad 1  Ad 2  Ad 3  Ad 4  Ad 5  Ad 6  Ad 7  Ad 8  Ad 9  Ad 10\n",
      "0        1     0     0     0     1     0     0     0     1      0\n",
      "1        0     0     0     0     0     0     0     0     1      0\n",
      "2        0     0     0     0     0     0     0     0     0      0\n",
      "3        0     1     0     0     0     0     0     1     0      0\n",
      "4        0     0     0     0     0     0     0     0     0      0\n",
      "...    ...   ...   ...   ...   ...   ...   ...   ...   ...    ...\n",
      "9995     0     0     1     0     0     0     0     1     0      0\n",
      "9996     0     0     0     0     0     0     0     0     0      0\n",
      "9997     0     0     0     0     0     0     0     0     0      0\n",
      "9998     1     0     0     0     0     0     0     1     0      0\n",
      "9999     0     1     0     0     0     0     0     0     0      0\n",
      "\n",
      "[10000 rows x 10 columns]\n"
     ]
    }
   ],
   "source": [
    "# Getting dataset\n",
    "dataset = pd.read_csv(\"Ads_CTR_Optimisation.csv\")\n",
    "print(dataset)"
   ]
  },
  {
   "cell_type": "code",
   "execution_count": 13,
   "id": "615b2a48-21d1-41c4-a47d-2dbee29750d3",
   "metadata": {},
   "outputs": [],
   "source": [
    "# creating UCB algorithm\n",
    "import math\n",
    "N = 10000\n",
    "d = 10 \n",
    "No_selections = [0] * 10\n",
    "Sum_rewards = [0] * 10\n",
    "ads_selected = []\n",
    "total_rewards = 0\n",
    "for n in range(0, N):\n",
    "    ad = 0\n",
    "    max_upper_bound = 0\n",
    "    for i in range(0, d):\n",
    "        if No_selections[i] > 0:\n",
    "            r_average = Sum_rewards[i]/ No_selections[i]\n",
    "            delta_i = math.sqrt(3/2 * math.log(n+1)/No_selections[i])\n",
    "            upper_bound = r_average + delta_i\n",
    "        else:\n",
    "            upper_bound = 1e44\n",
    "        if upper_bound > max_upper_bound:\n",
    "            max_upper_bound = upper_bound\n",
    "            ad = i\n",
    "        ads_selected.append(ad)\n",
    "        No_selections[ad] += 1\n",
    "        Sum_rewards[ad] = Sum_rewards[ad] + dataset.values[n,ad]\n",
    "        total_rewards = total_rewards + dataset.values[n,ad]\n",
    "   \n",
    "\n"
   ]
  },
  {
   "cell_type": "code",
   "execution_count": 17,
   "id": "5e5dfe8f-edbd-47c9-9276-79e11093c4fa",
   "metadata": {},
   "outputs": [
    {
     "data": {
      "image/png": "[encoded data removed]",
      "text/plain": [
       "<Figure size 640x480 with 1 Axes>"
      ]
     },
     "metadata": {},
     "output_type": "display_data"
    }
   ],
   "source": [
    "# Visualization\n",
    "plt.hist(ads_selected)\n",
    "plt.title(\"ads selected\")\n",
    "plt.xlabel('ads')\n",
    "plt.ylabel('no. of selections')\n",
    "plt.show()"
   ]
  },
  {
   "cell_type": "code",
   "execution_count": null,
   "id": "c33260fc-bbf3-4e78-9a0c-7d523a90cf0b",
   "metadata": {},
   "outputs": [],
   "source": []
  }
 ],
 "metadata": {
  "kernelspec": {
   "display_name": "Python [conda env:base] *",
   "language": "python",
   "name": "conda-base-py"
  },
  "language_info": {
   "codemirror_mode": {
    "name": "ipython",
    "version": 3
   },
   "file_extension": ".py",
   "mimetype": "text/x-python",
   "name": "python",
   "nbconvert_exporter": "python",
   "pygments_lexer": "ipython3",
   "version": "3.12.7"
  }
 },
 "nbformat": 4,
 "nbformat_minor": 5
}
