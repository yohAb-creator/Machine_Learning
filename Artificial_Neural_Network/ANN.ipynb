{
 "cells": [
  {
   "cell_type": "code",
   "execution_count": 115,
   "id": "ff6d3fa5-858a-4a05-88e7-2a807384069d",
   "metadata": {},
   "outputs": [
    {
     "name": "stdout",
     "output_type": "stream",
     "text": [
      "2.18.0\n"
     ]
    }
   ],
   "source": [
    "# Import libraries\n",
    "import pandas as pd \n",
    "import matplotlib.pyplot as plt \n",
    "import numpy as np \n",
    "import tensorflow as tf \n",
    "print(tf.__version__)"
   ]
  },
  {
   "cell_type": "code",
   "execution_count": 117,
   "id": "80a2d4b1-0d6d-4aa0-a84d-aee81b12de9d",
   "metadata": {},
   "outputs": [
    {
     "name": "stdout",
     "output_type": "stream",
     "text": [
      "[[619 'France' 'Female' ... 1 1 101348.88]\n",
      " [608 'Spain' 'Female' ... 0 1 112542.58]\n",
      " [502 'France' 'Female' ... 1 0 113931.57]\n",
      " ...\n",
      " [709 'France' 'Female' ... 0 1 42085.58]\n",
      " [772 'Germany' 'Male' ... 1 0 92888.52]\n",
      " [792 'France' 'Female' ... 1 0 38190.78]]\n"
     ]
    }
   ],
   "source": [
    "# Import dataset\n",
    "dataset = pd.read_csv(\"Churn_Modelling.csv\")\n",
    "X = dataset.iloc[:, 3:-1].values\n",
    "y = dataset.iloc[:, -1].values \n",
    "print(X)"
   ]
  },
  {
   "cell_type": "code",
   "execution_count": 119,
   "id": "058d51d3-6426-48fe-bbfa-1c7dcb88c242",
   "metadata": {},
   "outputs": [
    {
     "name": "stdout",
     "output_type": "stream",
     "text": [
      "[0 0 0 ... 0 1 0]\n"
     ]
    }
   ],
   "source": [
    "# Encoding categorical data \n",
    "from sklearn.preprocessing import OneHotEncoder\n",
    "from sklearn.preprocessing import LabelEncoder\n",
    "from sklearn.compose import ColumnTransformer\n",
    "label = LabelEncoder()\n",
    "X[:, 2] = label.fit_transform(X[:, 2])\n",
    "print(X[:, 2])\n",
    "ct = ColumnTransformer(transformers=[('encoder', OneHotEncoder(), [1])], remainder='passthrough')\n",
    "X = np.array(ct.fit_transform(X))\n",
    "\n",
    "\n"
   ]
  },
  {
   "cell_type": "code",
   "execution_count": 66,
   "id": "c8d27f62-3f16-4a32-9041-d43abda1935f",
   "metadata": {},
   "outputs": [],
   "source": [
    "# Split into training and test sets\n",
    "from sklearn.model_selection import train_test_split\n",
    "X_train, X_test, y_train, y_test = train_test_split(X, y, test_size = 0.2, random_state = 0)"
   ]
  },
  {
   "cell_type": "code",
   "execution_count": 68,
   "id": "077e30c8-954d-4b2c-8df4-953d84857e31",
   "metadata": {},
   "outputs": [
    {
     "name": "stdout",
     "output_type": "stream",
     "text": [
      "[[1.0 0.0 0.0 ... 1 1 101348.88]\n",
      " [0.0 0.0 1.0 ... 0 1 112542.58]\n",
      " [1.0 0.0 0.0 ... 1 0 113931.57]\n",
      " ...\n",
      " [1.0 0.0 0.0 ... 0 1 42085.58]\n",
      " [0.0 1.0 0.0 ... 1 0 92888.52]\n",
      " [1.0 0.0 0.0 ... 1 0 38190.78]]\n"
     ]
    }
   ],
   "source": [
    "# feature scaling\n",
    "from sklearn.preprocessing import StandardScaler\n",
    "sc = StandardScaler()\n",
    "X_train = sc.fit_transform(X_train)\n",
    "X_test = sc.transform(X_test)\n",
    "print(X)"
   ]
  },
  {
   "cell_type": "code",
   "execution_count": 70,
   "id": "ad235cd2-377c-4936-abcb-5e4e0b9fc5b6",
   "metadata": {},
   "outputs": [],
   "source": [
    "# initializing artificial neural network \n",
    "ann = tf.keras.models.Sequential()"
   ]
  },
  {
   "cell_type": "code",
   "execution_count": 72,
   "id": "f4d09b39-0b88-4c27-8e0d-83602f4bf672",
   "metadata": {},
   "outputs": [],
   "source": [
    "# Creating input layer and two hidden layers\n",
    "ann.add(tf.keras.layers.Dense(units=6, activation='relu'))\n",
    "ann.add(tf.keras.layers.Dense(units=6, activation='relu'))"
   ]
  },
  {
   "cell_type": "code",
   "execution_count": 74,
   "id": "6c54a222-9072-4aab-98d5-0d7472c97d79",
   "metadata": {},
   "outputs": [],
   "source": [
    "# Adding output layer \n",
    "ann.add(tf.keras.layers.Dense(units=1, activation='sigmoid'))"
   ]
  },
  {
   "cell_type": "code",
   "execution_count": 76,
   "id": "37b48b47-9c99-4246-94ad-3293513eb975",
   "metadata": {},
   "outputs": [
    {
     "name": "stdout",
     "output_type": "stream",
     "text": [
      "Epoch 1/100\n",
      "\u001b[1m2667/2667\u001b[0m \u001b[32m━━━━━━━━━━━━━━━━━━━━\u001b[0m\u001b[37m\u001b[0m \u001b[1m6s\u001b[0m 2ms/step - accuracy: 0.7354 - loss: 0.5598\n",
      "Epoch 2/100\n",
      "\u001b[1m2667/2667\u001b[0m \u001b[32m━━━━━━━━━━━━━━━━━━━━\u001b[0m\u001b[37m\u001b[0m \u001b[1m4s\u001b[0m 2ms/step - accuracy: 0.8213 - loss: 0.4180\n",
      "Epoch 3/100\n",
      "\u001b[1m2667/2667\u001b[0m \u001b[32m━━━━━━━━━━━━━━━━━━━━\u001b[0m\u001b[37m\u001b[0m \u001b[1m4s\u001b[0m 2ms/step - accuracy: 0.8250 - loss: 0.4090\n",
      "Epoch 4/100\n",
      "\u001b[1m2667/2667\u001b[0m \u001b[32m━━━━━━━━━━━━━━━━━━━━\u001b[0m\u001b[37m\u001b[0m \u001b[1m5s\u001b[0m 2ms/step - accuracy: 0.8519 - loss: 0.3665\n",
      "Epoch 5/100\n",
      "\u001b[1m2667/2667\u001b[0m \u001b[32m━━━━━━━━━━━━━━━━━━━━\u001b[0m\u001b[37m\u001b[0m \u001b[1m4s\u001b[0m 2ms/step - accuracy: 0.8562 - loss: 0.3568\n",
      "Epoch 6/100\n",
      "\u001b[1m2667/2667\u001b[0m \u001b[32m━━━━━━━━━━━━━━━━━━━━\u001b[0m\u001b[37m\u001b[0m \u001b[1m4s\u001b[0m 2ms/step - accuracy: 0.8546 - loss: 0.3529\n",
      "Epoch 7/100\n",
      "\u001b[1m2667/2667\u001b[0m \u001b[32m━━━━━━━━━━━━━━━━━━━━\u001b[0m\u001b[37m\u001b[0m \u001b[1m5s\u001b[0m 2ms/step - accuracy: 0.8632 - loss: 0.3471\n",
      "Epoch 8/100\n",
      "\u001b[1m2667/2667\u001b[0m \u001b[32m━━━━━━━━━━━━━━━━━━━━\u001b[0m\u001b[37m\u001b[0m \u001b[1m4s\u001b[0m 2ms/step - accuracy: 0.8596 - loss: 0.3512\n",
      "Epoch 9/100\n",
      "\u001b[1m2667/2667\u001b[0m \u001b[32m━━━━━━━━━━━━━━━━━━━━\u001b[0m\u001b[37m\u001b[0m \u001b[1m4s\u001b[0m 2ms/step - accuracy: 0.8643 - loss: 0.3321\n",
      "Epoch 10/100\n",
      "\u001b[1m2667/2667\u001b[0m \u001b[32m━━━━━━━━━━━━━━━━━━━━\u001b[0m\u001b[37m\u001b[0m \u001b[1m4s\u001b[0m 2ms/step - accuracy: 0.8566 - loss: 0.3411\n",
      "Epoch 11/100\n",
      "\u001b[1m2667/2667\u001b[0m \u001b[32m━━━━━━━━━━━━━━━━━━━━\u001b[0m\u001b[37m\u001b[0m \u001b[1m5s\u001b[0m 2ms/step - accuracy: 0.8564 - loss: 0.3495\n",
      "Epoch 12/100\n",
      "\u001b[1m2667/2667\u001b[0m \u001b[32m━━━━━━━━━━━━━━━━━━━━\u001b[0m\u001b[37m\u001b[0m \u001b[1m4s\u001b[0m 2ms/step - accuracy: 0.8624 - loss: 0.3419\n",
      "Epoch 13/100\n",
      "\u001b[1m2667/2667\u001b[0m \u001b[32m━━━━━━━━━━━━━━━━━━━━\u001b[0m\u001b[37m\u001b[0m \u001b[1m4s\u001b[0m 2ms/step - accuracy: 0.8600 - loss: 0.3407\n",
      "Epoch 14/100\n",
      "\u001b[1m2667/2667\u001b[0m \u001b[32m━━━━━━━━━━━━━━━━━━━━\u001b[0m\u001b[37m\u001b[0m \u001b[1m5s\u001b[0m 2ms/step - accuracy: 0.8676 - loss: 0.3292\n",
      "Epoch 15/100\n",
      "\u001b[1m2667/2667\u001b[0m \u001b[32m━━━━━━━━━━━━━━━━━━━━\u001b[0m\u001b[37m\u001b[0m \u001b[1m5s\u001b[0m 2ms/step - accuracy: 0.8611 - loss: 0.3396\n",
      "Epoch 16/100\n",
      "\u001b[1m2667/2667\u001b[0m \u001b[32m━━━━━━━━━━━━━━━━━━━━\u001b[0m\u001b[37m\u001b[0m \u001b[1m4s\u001b[0m 2ms/step - accuracy: 0.8658 - loss: 0.3395\n",
      "Epoch 17/100\n",
      "\u001b[1m2667/2667\u001b[0m \u001b[32m━━━━━━━━━━━━━━━━━━━━\u001b[0m\u001b[37m\u001b[0m \u001b[1m4s\u001b[0m 2ms/step - accuracy: 0.8580 - loss: 0.3377\n",
      "Epoch 18/100\n",
      "\u001b[1m2667/2667\u001b[0m \u001b[32m━━━━━━━━━━━━━━━━━━━━\u001b[0m\u001b[37m\u001b[0m \u001b[1m5s\u001b[0m 2ms/step - accuracy: 0.8662 - loss: 0.3343\n",
      "Epoch 19/100\n",
      "\u001b[1m2667/2667\u001b[0m \u001b[32m━━━━━━━━━━━━━━━━━━━━\u001b[0m\u001b[37m\u001b[0m \u001b[1m4s\u001b[0m 2ms/step - accuracy: 0.8617 - loss: 0.3438\n",
      "Epoch 20/100\n",
      "\u001b[1m2667/2667\u001b[0m \u001b[32m━━━━━━━━━━━━━━━━━━━━\u001b[0m\u001b[37m\u001b[0m \u001b[1m4s\u001b[0m 2ms/step - accuracy: 0.8591 - loss: 0.3386\n",
      "Epoch 21/100\n",
      "\u001b[1m2667/2667\u001b[0m \u001b[32m━━━━━━━━━━━━━━━━━━━━\u001b[0m\u001b[37m\u001b[0m \u001b[1m5s\u001b[0m 2ms/step - accuracy: 0.8609 - loss: 0.3405\n",
      "Epoch 22/100\n",
      "\u001b[1m2667/2667\u001b[0m \u001b[32m━━━━━━━━━━━━━━━━━━━━\u001b[0m\u001b[37m\u001b[0m \u001b[1m5s\u001b[0m 2ms/step - accuracy: 0.8594 - loss: 0.3354\n",
      "Epoch 23/100\n",
      "\u001b[1m2667/2667\u001b[0m \u001b[32m━━━━━━━━━━━━━━━━━━━━\u001b[0m\u001b[37m\u001b[0m \u001b[1m5s\u001b[0m 2ms/step - accuracy: 0.8584 - loss: 0.3432\n",
      "Epoch 24/100\n",
      "\u001b[1m2667/2667\u001b[0m \u001b[32m━━━━━━━━━━━━━━━━━━━━\u001b[0m\u001b[37m\u001b[0m \u001b[1m4s\u001b[0m 2ms/step - accuracy: 0.8571 - loss: 0.3459\n",
      "Epoch 25/100\n",
      "\u001b[1m2667/2667\u001b[0m \u001b[32m━━━━━━━━━━━━━━━━━━━━\u001b[0m\u001b[37m\u001b[0m \u001b[1m5s\u001b[0m 2ms/step - accuracy: 0.8616 - loss: 0.3409\n",
      "Epoch 26/100\n",
      "\u001b[1m2667/2667\u001b[0m \u001b[32m━━━━━━━━━━━━━━━━━━━━\u001b[0m\u001b[37m\u001b[0m \u001b[1m4s\u001b[0m 2ms/step - accuracy: 0.8627 - loss: 0.3416\n",
      "Epoch 27/100\n",
      "\u001b[1m2667/2667\u001b[0m \u001b[32m━━━━━━━━━━━━━━━━━━━━\u001b[0m\u001b[37m\u001b[0m \u001b[1m6s\u001b[0m 2ms/step - accuracy: 0.8590 - loss: 0.3424\n",
      "Epoch 28/100\n",
      "\u001b[1m2667/2667\u001b[0m \u001b[32m━━━━━━━━━━━━━━━━━━━━\u001b[0m\u001b[37m\u001b[0m \u001b[1m5s\u001b[0m 2ms/step - accuracy: 0.8668 - loss: 0.3332\n",
      "Epoch 29/100\n",
      "\u001b[1m2667/2667\u001b[0m \u001b[32m━━━━━━━━━━━━━━━━━━━━\u001b[0m\u001b[37m\u001b[0m \u001b[1m5s\u001b[0m 2ms/step - accuracy: 0.8682 - loss: 0.3269\n",
      "Epoch 30/100\n",
      "\u001b[1m2667/2667\u001b[0m \u001b[32m━━━━━━━━━━━━━━━━━━━━\u001b[0m\u001b[37m\u001b[0m \u001b[1m5s\u001b[0m 2ms/step - accuracy: 0.8622 - loss: 0.3412\n",
      "Epoch 31/100\n",
      "\u001b[1m2667/2667\u001b[0m \u001b[32m━━━━━━━━━━━━━━━━━━━━\u001b[0m\u001b[37m\u001b[0m \u001b[1m5s\u001b[0m 2ms/step - accuracy: 0.8605 - loss: 0.3353\n",
      "Epoch 32/100\n",
      "\u001b[1m2667/2667\u001b[0m \u001b[32m━━━━━━━━━━━━━━━━━━━━\u001b[0m\u001b[37m\u001b[0m \u001b[1m5s\u001b[0m 2ms/step - accuracy: 0.8666 - loss: 0.3303\n",
      "Epoch 33/100\n",
      "\u001b[1m2667/2667\u001b[0m \u001b[32m━━━━━━━━━━━━━━━━━━━━\u001b[0m\u001b[37m\u001b[0m \u001b[1m5s\u001b[0m 2ms/step - accuracy: 0.8684 - loss: 0.3398\n",
      "Epoch 34/100\n",
      "\u001b[1m2667/2667\u001b[0m \u001b[32m━━━━━━━━━━━━━━━━━━━━\u001b[0m\u001b[37m\u001b[0m \u001b[1m5s\u001b[0m 2ms/step - accuracy: 0.8613 - loss: 0.3374\n",
      "Epoch 35/100\n",
      "\u001b[1m2667/2667\u001b[0m \u001b[32m━━━━━━━━━━━━━━━━━━━━\u001b[0m\u001b[37m\u001b[0m \u001b[1m5s\u001b[0m 2ms/step - accuracy: 0.8659 - loss: 0.3295\n",
      "Epoch 36/100\n",
      "\u001b[1m2667/2667\u001b[0m \u001b[32m━━━━━━━━━━━━━━━━━━━━\u001b[0m\u001b[37m\u001b[0m \u001b[1m4s\u001b[0m 2ms/step - accuracy: 0.8671 - loss: 0.3299\n",
      "Epoch 37/100\n",
      "\u001b[1m2667/2667\u001b[0m \u001b[32m━━━━━━━━━━━━━━━━━━━━\u001b[0m\u001b[37m\u001b[0m \u001b[1m5s\u001b[0m 2ms/step - accuracy: 0.8701 - loss: 0.3253\n",
      "Epoch 38/100\n",
      "\u001b[1m2667/2667\u001b[0m \u001b[32m━━━━━━━━━━━━━━━━━━━━\u001b[0m\u001b[37m\u001b[0m \u001b[1m5s\u001b[0m 2ms/step - accuracy: 0.8636 - loss: 0.3337\n",
      "Epoch 39/100\n",
      "\u001b[1m2667/2667\u001b[0m \u001b[32m━━━━━━━━━━━━━━━━━━━━\u001b[0m\u001b[37m\u001b[0m \u001b[1m5s\u001b[0m 2ms/step - accuracy: 0.8577 - loss: 0.3456\n",
      "Epoch 40/100\n",
      "\u001b[1m2667/2667\u001b[0m \u001b[32m━━━━━━━━━━━━━━━━━━━━\u001b[0m\u001b[37m\u001b[0m \u001b[1m5s\u001b[0m 2ms/step - accuracy: 0.8674 - loss: 0.3290\n",
      "Epoch 41/100\n",
      "\u001b[1m2667/2667\u001b[0m \u001b[32m━━━━━━━━━━━━━━━━━━━━\u001b[0m\u001b[37m\u001b[0m \u001b[1m5s\u001b[0m 2ms/step - accuracy: 0.8583 - loss: 0.3443\n",
      "Epoch 42/100\n",
      "\u001b[1m2667/2667\u001b[0m \u001b[32m━━━━━━━━━━━━━━━━━━━━\u001b[0m\u001b[37m\u001b[0m \u001b[1m5s\u001b[0m 2ms/step - accuracy: 0.8647 - loss: 0.3344\n",
      "Epoch 43/100\n",
      "\u001b[1m2667/2667\u001b[0m \u001b[32m━━━━━━━━━━━━━━━━━━━━\u001b[0m\u001b[37m\u001b[0m \u001b[1m4s\u001b[0m 2ms/step - accuracy: 0.8606 - loss: 0.3280\n",
      "Epoch 44/100\n",
      "\u001b[1m2667/2667\u001b[0m \u001b[32m━━━━━━━━━━━━━━━━━━━━\u001b[0m\u001b[37m\u001b[0m \u001b[1m5s\u001b[0m 2ms/step - accuracy: 0.8669 - loss: 0.3291\n",
      "Epoch 45/100\n",
      "\u001b[1m2667/2667\u001b[0m \u001b[32m━━━━━━━━━━━━━━━━━━━━\u001b[0m\u001b[37m\u001b[0m \u001b[1m5s\u001b[0m 2ms/step - accuracy: 0.8634 - loss: 0.3352\n",
      "Epoch 46/100\n",
      "\u001b[1m2667/2667\u001b[0m \u001b[32m━━━━━━━━━━━━━━━━━━━━\u001b[0m\u001b[37m\u001b[0m \u001b[1m4s\u001b[0m 2ms/step - accuracy: 0.8571 - loss: 0.3419\n",
      "Epoch 47/100\n",
      "\u001b[1m2667/2667\u001b[0m \u001b[32m━━━━━━━━━━━━━━━━━━━━\u001b[0m\u001b[37m\u001b[0m \u001b[1m5s\u001b[0m 2ms/step - accuracy: 0.8688 - loss: 0.3198\n",
      "Epoch 48/100\n",
      "\u001b[1m2667/2667\u001b[0m \u001b[32m━━━━━━━━━━━━━━━━━━━━\u001b[0m\u001b[37m\u001b[0m \u001b[1m6s\u001b[0m 2ms/step - accuracy: 0.8655 - loss: 0.3332\n",
      "Epoch 49/100\n",
      "\u001b[1m2667/2667\u001b[0m \u001b[32m━━━━━━━━━━━━━━━━━━━━\u001b[0m\u001b[37m\u001b[0m \u001b[1m5s\u001b[0m 2ms/step - accuracy: 0.8628 - loss: 0.3371\n",
      "Epoch 50/100\n",
      "\u001b[1m2667/2667\u001b[0m \u001b[32m━━━━━━━━━━━━━━━━━━━━\u001b[0m\u001b[37m\u001b[0m \u001b[1m5s\u001b[0m 2ms/step - accuracy: 0.8650 - loss: 0.3397\n",
      "Epoch 51/100\n",
      "\u001b[1m2667/2667\u001b[0m \u001b[32m━━━━━━━━━━━━━━━━━━━━\u001b[0m\u001b[37m\u001b[0m \u001b[1m5s\u001b[0m 2ms/step - accuracy: 0.8677 - loss: 0.3256\n",
      "Epoch 52/100\n",
      "\u001b[1m2667/2667\u001b[0m \u001b[32m━━━━━━━━━━━━━━━━━━━━\u001b[0m\u001b[37m\u001b[0m \u001b[1m5s\u001b[0m 2ms/step - accuracy: 0.8646 - loss: 0.3383\n",
      "Epoch 53/100\n",
      "\u001b[1m2667/2667\u001b[0m \u001b[32m━━━━━━━━━━━━━━━━━━━━\u001b[0m\u001b[37m\u001b[0m \u001b[1m5s\u001b[0m 2ms/step - accuracy: 0.8583 - loss: 0.3385\n",
      "Epoch 54/100\n",
      "\u001b[1m2667/2667\u001b[0m \u001b[32m━━━━━━━━━━━━━━━━━━━━\u001b[0m\u001b[37m\u001b[0m \u001b[1m5s\u001b[0m 2ms/step - accuracy: 0.8591 - loss: 0.3475\n",
      "Epoch 55/100\n",
      "\u001b[1m2667/2667\u001b[0m \u001b[32m━━━━━━━━━━━━━━━━━━━━\u001b[0m\u001b[37m\u001b[0m \u001b[1m6s\u001b[0m 2ms/step - accuracy: 0.8642 - loss: 0.3334\n",
      "Epoch 56/100\n",
      "\u001b[1m2667/2667\u001b[0m \u001b[32m━━━━━━━━━━━━━━━━━━━━\u001b[0m\u001b[37m\u001b[0m \u001b[1m5s\u001b[0m 2ms/step - accuracy: 0.8683 - loss: 0.3264\n",
      "Epoch 57/100\n",
      "\u001b[1m2667/2667\u001b[0m \u001b[32m━━━━━━━━━━━━━━━━━━━━\u001b[0m\u001b[37m\u001b[0m \u001b[1m5s\u001b[0m 2ms/step - accuracy: 0.8669 - loss: 0.3272\n",
      "Epoch 58/100\n",
      "\u001b[1m2667/2667\u001b[0m \u001b[32m━━━━━━━━━━━━━━━━━━━━\u001b[0m\u001b[37m\u001b[0m \u001b[1m6s\u001b[0m 2ms/step - accuracy: 0.8614 - loss: 0.3398\n",
      "Epoch 59/100\n",
      "\u001b[1m2667/2667\u001b[0m \u001b[32m━━━━━━━━━━━━━━━━━━━━\u001b[0m\u001b[37m\u001b[0m \u001b[1m4s\u001b[0m 2ms/step - accuracy: 0.8633 - loss: 0.3299\n",
      "Epoch 60/100\n",
      "\u001b[1m2667/2667\u001b[0m \u001b[32m━━━━━━━━━━━━━━━━━━━━\u001b[0m\u001b[37m\u001b[0m \u001b[1m5s\u001b[0m 2ms/step - accuracy: 0.8593 - loss: 0.3445\n",
      "Epoch 61/100\n",
      "\u001b[1m2667/2667\u001b[0m \u001b[32m━━━━━━━━━━━━━━━━━━━━\u001b[0m\u001b[37m\u001b[0m \u001b[1m5s\u001b[0m 2ms/step - accuracy: 0.8531 - loss: 0.3417\n",
      "Epoch 62/100\n",
      "\u001b[1m2667/2667\u001b[0m \u001b[32m━━━━━━━━━━━━━━━━━━━━\u001b[0m\u001b[37m\u001b[0m \u001b[1m5s\u001b[0m 2ms/step - accuracy: 0.8638 - loss: 0.3278\n",
      "Epoch 63/100\n",
      "\u001b[1m2667/2667\u001b[0m \u001b[32m━━━━━━━━━━━━━━━━━━━━\u001b[0m\u001b[37m\u001b[0m \u001b[1m5s\u001b[0m 2ms/step - accuracy: 0.8574 - loss: 0.3346\n",
      "Epoch 64/100\n",
      "\u001b[1m2667/2667\u001b[0m \u001b[32m━━━━━━━━━━━━━━━━━━━━\u001b[0m\u001b[37m\u001b[0m \u001b[1m6s\u001b[0m 2ms/step - accuracy: 0.8643 - loss: 0.3343\n",
      "Epoch 65/100\n",
      "\u001b[1m2667/2667\u001b[0m \u001b[32m━━━━━━━━━━━━━━━━━━━━\u001b[0m\u001b[37m\u001b[0m \u001b[1m5s\u001b[0m 2ms/step - accuracy: 0.8654 - loss: 0.3325\n",
      "Epoch 66/100\n",
      "\u001b[1m2667/2667\u001b[0m \u001b[32m━━━━━━━━━━━━━━━━━━━━\u001b[0m\u001b[37m\u001b[0m \u001b[1m5s\u001b[0m 2ms/step - accuracy: 0.8654 - loss: 0.3345\n",
      "Epoch 67/100\n",
      "\u001b[1m2667/2667\u001b[0m \u001b[32m━━━━━━━━━━━━━━━━━━━━\u001b[0m\u001b[37m\u001b[0m \u001b[1m5s\u001b[0m 2ms/step - accuracy: 0.8671 - loss: 0.3290\n",
      "Epoch 68/100\n",
      "\u001b[1m2667/2667\u001b[0m \u001b[32m━━━━━━━━━━━━━━━━━━━━\u001b[0m\u001b[37m\u001b[0m \u001b[1m5s\u001b[0m 2ms/step - accuracy: 0.8659 - loss: 0.3306\n",
      "Epoch 69/100\n",
      "\u001b[1m2667/2667\u001b[0m \u001b[32m━━━━━━━━━━━━━━━━━━━━\u001b[0m\u001b[37m\u001b[0m \u001b[1m5s\u001b[0m 2ms/step - accuracy: 0.8514 - loss: 0.3506\n",
      "Epoch 70/100\n",
      "\u001b[1m2667/2667\u001b[0m \u001b[32m━━━━━━━━━━━━━━━━━━━━\u001b[0m\u001b[37m\u001b[0m \u001b[1m5s\u001b[0m 2ms/step - accuracy: 0.8672 - loss: 0.3266\n",
      "Epoch 71/100\n",
      "\u001b[1m2667/2667\u001b[0m \u001b[32m━━━━━━━━━━━━━━━━━━━━\u001b[0m\u001b[37m\u001b[0m \u001b[1m5s\u001b[0m 2ms/step - accuracy: 0.8568 - loss: 0.3448\n",
      "Epoch 72/100\n",
      "\u001b[1m2667/2667\u001b[0m \u001b[32m━━━━━━━━━━━━━━━━━━━━\u001b[0m\u001b[37m\u001b[0m \u001b[1m5s\u001b[0m 2ms/step - accuracy: 0.8636 - loss: 0.3348\n",
      "Epoch 73/100\n",
      "\u001b[1m2667/2667\u001b[0m \u001b[32m━━━━━━━━━━━━━━━━━━━━\u001b[0m\u001b[37m\u001b[0m \u001b[1m5s\u001b[0m 2ms/step - accuracy: 0.8637 - loss: 0.3316\n",
      "Epoch 74/100\n",
      "\u001b[1m2667/2667\u001b[0m \u001b[32m━━━━━━━━━━━━━━━━━━━━\u001b[0m\u001b[37m\u001b[0m \u001b[1m6s\u001b[0m 2ms/step - accuracy: 0.8583 - loss: 0.3342\n",
      "Epoch 75/100\n",
      "\u001b[1m2667/2667\u001b[0m \u001b[32m━━━━━━━━━━━━━━━━━━━━\u001b[0m\u001b[37m\u001b[0m \u001b[1m5s\u001b[0m 2ms/step - accuracy: 0.8655 - loss: 0.3341\n",
      "Epoch 76/100\n",
      "\u001b[1m2667/2667\u001b[0m \u001b[32m━━━━━━━━━━━━━━━━━━━━\u001b[0m\u001b[37m\u001b[0m \u001b[1m5s\u001b[0m 2ms/step - accuracy: 0.8624 - loss: 0.3368\n",
      "Epoch 77/100\n",
      "\u001b[1m2667/2667\u001b[0m \u001b[32m━━━━━━━━━━━━━━━━━━━━\u001b[0m\u001b[37m\u001b[0m \u001b[1m5s\u001b[0m 2ms/step - accuracy: 0.8656 - loss: 0.3271\n",
      "Epoch 78/100\n",
      "\u001b[1m2667/2667\u001b[0m \u001b[32m━━━━━━━━━━━━━━━━━━━━\u001b[0m\u001b[37m\u001b[0m \u001b[1m5s\u001b[0m 2ms/step - accuracy: 0.8616 - loss: 0.3413\n",
      "Epoch 79/100\n",
      "\u001b[1m2667/2667\u001b[0m \u001b[32m━━━━━━━━━━━━━━━━━━━━\u001b[0m\u001b[37m\u001b[0m \u001b[1m5s\u001b[0m 2ms/step - accuracy: 0.8627 - loss: 0.3318\n",
      "Epoch 80/100\n",
      "\u001b[1m2667/2667\u001b[0m \u001b[32m━━━━━━━━━━━━━━━━━━━━\u001b[0m\u001b[37m\u001b[0m \u001b[1m5s\u001b[0m 2ms/step - accuracy: 0.8678 - loss: 0.3218\n",
      "Epoch 81/100\n",
      "\u001b[1m2667/2667\u001b[0m \u001b[32m━━━━━━━━━━━━━━━━━━━━\u001b[0m\u001b[37m\u001b[0m \u001b[1m6s\u001b[0m 2ms/step - accuracy: 0.8664 - loss: 0.3375\n",
      "Epoch 82/100\n",
      "\u001b[1m2667/2667\u001b[0m \u001b[32m━━━━━━━━━━━━━━━━━━━━\u001b[0m\u001b[37m\u001b[0m \u001b[1m5s\u001b[0m 2ms/step - accuracy: 0.8573 - loss: 0.3433\n",
      "Epoch 83/100\n",
      "\u001b[1m2667/2667\u001b[0m \u001b[32m━━━━━━━━━━━━━━━━━━━━\u001b[0m\u001b[37m\u001b[0m \u001b[1m6s\u001b[0m 2ms/step - accuracy: 0.8617 - loss: 0.3399\n",
      "Epoch 84/100\n",
      "\u001b[1m2667/2667\u001b[0m \u001b[32m━━━━━━━━━━━━━━━━━━━━\u001b[0m\u001b[37m\u001b[0m \u001b[1m5s\u001b[0m 2ms/step - accuracy: 0.8571 - loss: 0.3416\n",
      "Epoch 85/100\n",
      "\u001b[1m2667/2667\u001b[0m \u001b[32m━━━━━━━━━━━━━━━━━━━━\u001b[0m\u001b[37m\u001b[0m \u001b[1m5s\u001b[0m 2ms/step - accuracy: 0.8553 - loss: 0.3398\n",
      "Epoch 86/100\n",
      "\u001b[1m2667/2667\u001b[0m \u001b[32m━━━━━━━━━━━━━━━━━━━━\u001b[0m\u001b[37m\u001b[0m \u001b[1m5s\u001b[0m 2ms/step - accuracy: 0.8725 - loss: 0.3195\n",
      "Epoch 87/100\n",
      "\u001b[1m2667/2667\u001b[0m \u001b[32m━━━━━━━━━━━━━━━━━━━━\u001b[0m\u001b[37m\u001b[0m \u001b[1m6s\u001b[0m 2ms/step - accuracy: 0.8588 - loss: 0.3439\n",
      "Epoch 88/100\n",
      "\u001b[1m2667/2667\u001b[0m \u001b[32m━━━━━━━━━━━━━━━━━━━━\u001b[0m\u001b[37m\u001b[0m \u001b[1m5s\u001b[0m 2ms/step - accuracy: 0.8632 - loss: 0.3370\n",
      "Epoch 89/100\n",
      "\u001b[1m2667/2667\u001b[0m \u001b[32m━━━━━━━━━━━━━━━━━━━━\u001b[0m\u001b[37m\u001b[0m \u001b[1m6s\u001b[0m 2ms/step - accuracy: 0.8613 - loss: 0.3313\n",
      "Epoch 90/100\n",
      "\u001b[1m2667/2667\u001b[0m \u001b[32m━━━━━━━━━━━━━━━━━━━━\u001b[0m\u001b[37m\u001b[0m \u001b[1m7s\u001b[0m 3ms/step - accuracy: 0.8664 - loss: 0.3254\n",
      "Epoch 91/100\n",
      "\u001b[1m2667/2667\u001b[0m \u001b[32m━━━━━━━━━━━━━━━━━━━━\u001b[0m\u001b[37m\u001b[0m \u001b[1m6s\u001b[0m 2ms/step - accuracy: 0.8647 - loss: 0.3310\n",
      "Epoch 92/100\n",
      "\u001b[1m2667/2667\u001b[0m \u001b[32m━━━━━━━━━━━━━━━━━━━━\u001b[0m\u001b[37m\u001b[0m \u001b[1m7s\u001b[0m 3ms/step - accuracy: 0.8618 - loss: 0.3322\n",
      "Epoch 93/100\n",
      "\u001b[1m2667/2667\u001b[0m \u001b[32m━━━━━━━━━━━━━━━━━━━━\u001b[0m\u001b[37m\u001b[0m \u001b[1m6s\u001b[0m 2ms/step - accuracy: 0.8646 - loss: 0.3270\n",
      "Epoch 94/100\n",
      "\u001b[1m2667/2667\u001b[0m \u001b[32m━━━━━━━━━━━━━━━━━━━━\u001b[0m\u001b[37m\u001b[0m \u001b[1m10s\u001b[0m 2ms/step - accuracy: 0.8651 - loss: 0.3319\n",
      "Epoch 95/100\n",
      "\u001b[1m2667/2667\u001b[0m \u001b[32m━━━━━━━━━━━━━━━━━━━━\u001b[0m\u001b[37m\u001b[0m \u001b[1m7s\u001b[0m 3ms/step - accuracy: 0.8598 - loss: 0.3412\n",
      "Epoch 96/100\n",
      "\u001b[1m2667/2667\u001b[0m \u001b[32m━━━━━━━━━━━━━━━━━━━━\u001b[0m\u001b[37m\u001b[0m \u001b[1m8s\u001b[0m 3ms/step - accuracy: 0.8605 - loss: 0.3350\n",
      "Epoch 97/100\n",
      "\u001b[1m2667/2667\u001b[0m \u001b[32m━━━━━━━━━━━━━━━━━━━━\u001b[0m\u001b[37m\u001b[0m \u001b[1m7s\u001b[0m 3ms/step - accuracy: 0.8637 - loss: 0.3314\n",
      "Epoch 98/100\n",
      "\u001b[1m2667/2667\u001b[0m \u001b[32m━━━━━━━━━━━━━━━━━━━━\u001b[0m\u001b[37m\u001b[0m \u001b[1m7s\u001b[0m 3ms/step - accuracy: 0.8573 - loss: 0.3446\n",
      "Epoch 99/100\n",
      "\u001b[1m2667/2667\u001b[0m \u001b[32m━━━━━━━━━━━━━━━━━━━━\u001b[0m\u001b[37m\u001b[0m \u001b[1m9s\u001b[0m 3ms/step - accuracy: 0.8592 - loss: 0.3409\n",
      "Epoch 100/100\n",
      "\u001b[1m2667/2667\u001b[0m \u001b[32m━━━━━━━━━━━━━━━━━━━━\u001b[0m\u001b[37m\u001b[0m \u001b[1m6s\u001b[0m 2ms/step - accuracy: 0.8629 - loss: 0.3337\n"
     ]
    },
    {
     "data": {
      "text/plain": [
       "<keras.src.callbacks.history.History at 0x1c50355b2c0>"
      ]
     },
     "execution_count": 76,
     "metadata": {},
     "output_type": "execute_result"
    }
   ],
   "source": [
    "# Compiling and training the ANN\n",
    "ann.compile(optimizer = 'adam', loss = 'binary_crossentropy', metrics = ['accuracy'])\n",
    "ann.fit(X_train, y_train, batch_size =3, epochs = 100)\n",
    "\n"
   ]
  },
  {
   "cell_type": "markdown",
   "id": "00a9edef-1d29-41a9-9c34-68cd74a0837c",
   "metadata": {},
   "source": [
    "### Predicting a result\n",
    "test = [[600, 'France', 1, 40, 3, 60000, 2, 1, 1, 50000 ]]\n",
    "print(test)\n",
    "ann.predict(ct.transform(test))"
   ]
  },
  {
   "cell_type": "code",
   "execution_count": 138,
   "id": "0f2b887e-69ee-4638-9475-14a498b905f8",
   "metadata": {},
   "outputs": [
    {
     "name": "stdout",
     "output_type": "stream",
     "text": [
      "[[1.0 0.0 0.0 600 1 40 3 60000 2 1 1 50000]]\n",
      "\u001b[1m1/1\u001b[0m \u001b[32m━━━━━━━━━━━━━━━━━━━━\u001b[0m\u001b[37m\u001b[0m \u001b[1m0s\u001b[0m 61ms/step\n"
     ]
    }
   ],
   "source": [
    "# Predicting a result. Could have just entered the categorical dummy variables for France\n",
    "test = [[600, 'France', 1, 40, 3, 60000, 2, 1, 1, 50000 ]] \n",
    "print(ct.transform(test)) \n",
    "y_pred = ann.predict(sc.transform(ct.transform(test)))"
   ]
  },
  {
   "cell_type": "code",
   "execution_count": 140,
   "id": "95c06b9a-2fa0-442c-9adc-4cc8cd127218",
   "metadata": {},
   "outputs": [
    {
     "name": "stdout",
     "output_type": "stream",
     "text": [
      "[[False]]\n"
     ]
    }
   ],
   "source": [
    "print(y_pred > 0.5)"
   ]
  },
  {
   "cell_type": "code",
   "execution_count": 158,
   "id": "7162c394-5fb4-4242-8ea8-aef32f1edebc",
   "metadata": {},
   "outputs": [
    {
     "name": "stdout",
     "output_type": "stream",
     "text": [
      "\u001b[1m63/63\u001b[0m \u001b[32m━━━━━━━━━━━━━━━━━━━━\u001b[0m\u001b[37m\u001b[0m \u001b[1m0s\u001b[0m 2ms/step\n",
      "[[0 0]\n",
      " [0 1]\n",
      " [0 0]\n",
      " ...\n",
      " [0 0]\n",
      " [0 0]\n",
      " [0 0]]\n"
     ]
    }
   ],
   "source": [
    "# Predict and compare test results\n",
    "y_pred = ann.predict(X_test) > 0.5\n",
    "print(np.concatenate((y_pred.reshape(len(y_pred),1), y_test.reshape(len(y_test), 1)), 1))"
   ]
  },
  {
   "cell_type": "code",
   "execution_count": 170,
   "id": "fe940795-e6ed-47a2-98c8-0a4f36bec6a2",
   "metadata": {},
   "outputs": [
    {
     "name": "stdout",
     "output_type": "stream",
     "text": [
      "[[1519  193]\n",
      " [  76  212]]\n",
      "0.8655\n"
     ]
    }
   ],
   "source": [
    "# Confusion matrix and accuracy score \n",
    "from sklearn.metrics import confusion_matrix, accuracy_score\n",
    "print(confusion_matrix(y_pred, y_test))\n",
    "print(accuracy_score(y_pred, y_test))"
   ]
  },
  {
   "cell_type": "code",
   "execution_count": null,
   "id": "24992c79-9fbf-4284-9f34-bf37ad7029a3",
   "metadata": {},
   "outputs": [],
   "source": []
  }
 ],
 "metadata": {
  "kernelspec": {
   "display_name": "Python [conda env:base] *",
   "language": "python",
   "name": "conda-base-py"
  },
  "language_info": {
   "codemirror_mode": {
    "name": "ipython",
    "version": 3
   },
   "file_extension": ".py",
   "mimetype": "text/x-python",
   "name": "python",
   "nbconvert_exporter": "python",
   "pygments_lexer": "ipython3",
   "version": "3.12.7"
  }
 },
 "nbformat": 4,
 "nbformat_minor": 5
}
